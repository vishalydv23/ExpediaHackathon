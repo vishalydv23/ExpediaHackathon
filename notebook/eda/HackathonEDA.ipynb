{
 "cells": [
  {
   "cell_type": "markdown",
   "metadata": {},
   "source": [
    "The main dataset is yet to be released by the contest organizers. Meanwhile we can look at the secondary data. We assume that this data is collected to find out the factors that are considered to bring most positive impact on the society.   "
   ]
  },
  {
   "cell_type": "markdown",
   "metadata": {},
   "source": [
    "<span style=\"color:red\"><b>We(Vishal/Shagun)</b> can simultaneously work on this notebook, under headings assigned to us.</span>\n",
    "\n",
    "<b> Note: \n",
    "    * Before pushing the code to the repo, always remember to clear the output first\n",
    "    * Document the code really well. This work style of working on same repo will help each other a lot if it is very well documented\n",
    "</b>"
   ]
  },
  {
   "cell_type": "markdown",
   "metadata": {},
   "source": [
    "## Economic impact\n",
    "### Vishal "
   ]
  },
  {
   "cell_type": "markdown",
   "metadata": {},
   "source": [
    "Test commit to the EDA branch."
   ]
  },
  {
   "cell_type": "markdown",
   "metadata": {},
   "source": [
    "## Environmental impact\n",
    "### Shagun"
   ]
  },
  {
   "cell_type": "code",
   "execution_count": null,
   "metadata": {},
   "outputs": [],
   "source": []
  }
 ],
 "metadata": {
  "kernelspec": {
   "display_name": "Python 3",
   "language": "python",
   "name": "python3"
  },
  "language_info": {
   "codemirror_mode": {
    "name": "ipython",
    "version": 3
   },
   "file_extension": ".py",
   "mimetype": "text/x-python",
   "name": "python",
   "nbconvert_exporter": "python",
   "pygments_lexer": "ipython3",
   "version": "3.7.3"
  }
 },
 "nbformat": 4,
 "nbformat_minor": 2
}
